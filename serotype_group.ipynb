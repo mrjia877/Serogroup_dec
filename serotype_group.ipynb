{
 "cells": [
  {
   "cell_type": "code",
   "execution_count": 1,
   "metadata": {},
   "outputs": [],
   "source": [
    "import numpy as np\n",
    "import pandas as pd\n",
    "import os"
   ]
  },
  {
   "cell_type": "code",
   "execution_count": 2,
   "metadata": {},
   "outputs": [],
   "source": [
    "file_database=pd.read_csv('Serotype_group_a_z.csv')\n",
    "strains=pd.read_csv('strains.csv')\n",
    "header_index=file_database.columns.to_list()\n",
    "# dataframe_output=pd.read_csv('output.csv')\n",
    "our_Serotype=strains['Serotype']"
   ]
  },
  {
   "attachments": {},
   "cell_type": "markdown",
   "metadata": {},
   "source": [
    "检测我们的serotype所在的serogroup"
   ]
  },
  {
   "cell_type": "code",
   "execution_count": null,
   "metadata": {},
   "outputs": [],
   "source": [
    "for serotypes in our_Serotype:\n",
    "    # print(serotypes)\n",
    "    for header in header_index:\n",
    "        temp_check=file_database[header]\n",
    "        temp_check=list(temp_check)\n",
    "        if serotypes in temp_check:\n",
    "            print(serotypes,'sero_group is',header)\n"
   ]
  },
  {
   "attachments": {},
   "cell_type": "markdown",
   "metadata": {},
   "source": [
    "检测不能分类的"
   ]
  },
  {
   "cell_type": "code",
   "execution_count": null,
   "metadata": {},
   "outputs": [],
   "source": [
    "count=0\n",
    "no_match=[]\n",
    "all_match=[]\n",
    "for i in header_index:\n",
    "    all_serotypr_temp=file_database[i]\n",
    "    all_serotypr_temp=list(all_serotypr_temp)\n",
    "    for ii in all_serotypr_temp:\n",
    "        all_match.append(ii)\n",
    "all_match=set(all_match)\n",
    "for item in our_Serotype:\n",
    "    if item in all_match:\n",
    "        count=count+1\n",
    "    else:\n",
    "        count=count\n",
    "        no_match.append(item)\n",
    "count_no_match=len(our_Serotype)-count\n",
    "print(count_no_match)\n",
    "print(no_match)"
   ]
  },
  {
   "attachments": {},
   "cell_type": "markdown",
   "metadata": {},
   "source": [
    "PRCESEE2:我把上面检测到能分类的serotype 和对应的serogroup 用excel整理了一下 下面读入整理后的文件"
   ]
  },
  {
   "cell_type": "code",
   "execution_count": 5,
   "metadata": {},
   "outputs": [],
   "source": [
    "process2_file=pd.read_csv('serotype_group_result.csv',index_col=0)\n",
    "long=pd.read_csv('long.csv')\n",
    "output_step2=pd.DataFrame()\n",
    "long_list=long['long']\n",
    "output_step2['please_delet']=long_list"
   ]
  },
  {
   "cell_type": "code",
   "execution_count": null,
   "metadata": {},
   "outputs": [],
   "source": [
    "process2_file"
   ]
  },
  {
   "cell_type": "code",
   "execution_count": null,
   "metadata": {},
   "outputs": [],
   "source": [
    "group2=process2_file['group']\n",
    "group2=list(group2)\n",
    "group2=set(group2)\n",
    "group2=list(group2)\n",
    "for item in group2:\n",
    "    list_2=process2_file[(process2_file.group==item)].index.to_list()\n",
    "    output_step2[item]=pd.Series(list_2)\n",
    "output_step2\n"
   ]
  },
  {
   "cell_type": "code",
   "execution_count": 8,
   "metadata": {},
   "outputs": [],
   "source": [
    "output_step2.to_csv('output_step2.csv')"
   ]
  },
  {
   "attachments": {},
   "cell_type": "markdown",
   "metadata": {},
   "source": [
    "拆分文件"
   ]
  },
  {
   "cell_type": "code",
   "execution_count": 2,
   "metadata": {},
   "outputs": [],
   "source": [
    "file_2022=pd.read_csv('2022_2.csv')\n",
    "process3=pd.read_csv('process3.csv')\n",
    "process3_index=process3.columns.to_list()"
   ]
  },
  {
   "cell_type": "code",
   "execution_count": null,
   "metadata": {},
   "outputs": [],
   "source": [
    "file_2022"
   ]
  },
  {
   "cell_type": "code",
   "execution_count": null,
   "metadata": {},
   "outputs": [],
   "source": [
    "process3_index"
   ]
  },
  {
   "cell_type": "code",
   "execution_count": 4,
   "metadata": {},
   "outputs": [],
   "source": [
    "for item in process3_index:\n",
    "    output=pd.DataFrame()\n",
    "    temp_list_1=process3[item]\n",
    "    temp_list_1=temp_list_1.dropna()\n",
    "    next_step=[]\n",
    "    for ii in temp_list_1:\n",
    "        index_2022=file_2022[(file_2022.Serotype==ii)].index.to_list()\n",
    "        for iii in index_2022:\n",
    "            next_step.append(iii)\n",
    "    ready_output=file_2022.loc[next_step]\n",
    "    df=pd.DataFrame(ready_output)\n",
    "    df.to_csv(item+'.csv',index=False)\n"
   ]
  }
 ],
 "metadata": {
  "kernelspec": {
   "display_name": "Python 3.9.9 64-bit (microsoft store)",
   "language": "python",
   "name": "python3"
  },
  "language_info": {
   "codemirror_mode": {
    "name": "ipython",
    "version": 3
   },
   "file_extension": ".py",
   "mimetype": "text/x-python",
   "name": "python",
   "nbconvert_exporter": "python",
   "pygments_lexer": "ipython3",
   "version": "3.10.9"
  },
  "orig_nbformat": 4,
  "vscode": {
   "interpreter": {
    "hash": "3597248ff935df6f8b60598716b3f9559b5db4c96a5692dc7db1c0c27d2b347d"
   }
  }
 },
 "nbformat": 4,
 "nbformat_minor": 2
}
