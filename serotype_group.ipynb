{
 "cells": [
  {
   "cell_type": "code",
   "execution_count": 18,
   "metadata": {},
   "outputs": [],
   "source": [
    "import numpy as np\n",
    "import pandas as pd\n",
    "import os\n",
    "import openpyxl"
   ]
  },
  {
   "cell_type": "code",
   "execution_count": 19,
   "metadata": {},
   "outputs": [],
   "source": [
    "file_database=pd.read_csv('database.csv')\n",
    "strains=pd.read_csv('example.csv')\n",
    "header_index=file_database.columns.to_list()\n",
    "# dataframe_output=pd.read_csv('output.csv')\n",
    "our_Serotype=strains['Serovar']"
   ]
  },
  {
   "attachments": {},
   "cell_type": "markdown",
   "metadata": {},
   "source": [
    "检测我们的serotype所在的serogroup"
   ]
  },
  {
   "cell_type": "code",
   "execution_count": 20,
   "metadata": {},
   "outputs": [],
   "source": [
    "serovar_dectecting=[]\n",
    "sero_group_result=[]\n",
    "\n",
    "for serotypes in our_Serotype:\n",
    "    for header in header_index:\n",
    "        temp_check=file_database[header]\n",
    "        temp_check=list(temp_check)\n",
    "        if serotypes in temp_check:\n",
    "            serovar_dectecting.append(serotypes)\n",
    "            sero_group_result.append(header)\n",
    "            break"
   ]
  },
  {
   "attachments": {},
   "cell_type": "markdown",
   "metadata": {},
   "source": [
    "检测不能分类的"
   ]
  },
  {
   "cell_type": "code",
   "execution_count": 21,
   "metadata": {},
   "outputs": [],
   "source": [
    "count=0\n",
    "no_match=[]\n",
    "all_match=[]\n",
    "for i in header_index:\n",
    "    all_serotypr_temp=file_database[i]\n",
    "    all_serotypr_temp=list(all_serotypr_temp)\n",
    "    for ii in all_serotypr_temp:\n",
    "        all_match.append(ii)\n",
    "all_match=set(all_match)\n",
    "for item in our_Serotype:\n",
    "    if item in all_match:\n",
    "        count=count+1\n",
    "    else:\n",
    "        count=count\n",
    "        no_match.append(item)\n",
    "count_no_match=len(our_Serotype)-count\n",
    "# print(count_no_match)\n",
    "# print(no_match)"
   ]
  },
  {
   "attachments": {},
   "cell_type": "markdown",
   "metadata": {},
   "source": [
    "输出result文件 文件个数为xlsx"
   ]
  },
  {
   "cell_type": "code",
   "execution_count": 22,
   "metadata": {},
   "outputs": [],
   "source": [
    "output={'serovar':serovar_dectecting, 'serogroup':sero_group_result}\n",
    "output=pd.DataFrame(output)\n",
    "output.to_excel('result.xlsx',index=False)\n",
    "not_find=pd.DataFrame(no_match,columns=['Not Find'])\n",
    "writer = pd.ExcelWriter('result.xlsx', mode=\"a\", engine=\"openpyxl\")\n",
    "not_find.to_excel(writer,index=False,sheet_name='Not Find')\n",
    "writer.save()\n",
    "writer.close()\n",
    "\n"
   ]
  }
 ],
 "metadata": {
  "kernelspec": {
   "display_name": "Python 3.9.9 64-bit (microsoft store)",
   "language": "python",
   "name": "python3"
  },
  "language_info": {
   "codemirror_mode": {
    "name": "ipython",
    "version": 3
   },
   "file_extension": ".py",
   "mimetype": "text/x-python",
   "name": "python",
   "nbconvert_exporter": "python",
   "pygments_lexer": "ipython3",
   "version": "3.10.0"
  },
  "orig_nbformat": 4,
  "vscode": {
   "interpreter": {
    "hash": "3597248ff935df6f8b60598716b3f9559b5db4c96a5692dc7db1c0c27d2b347d"
   }
  }
 },
 "nbformat": 4,
 "nbformat_minor": 2
}
